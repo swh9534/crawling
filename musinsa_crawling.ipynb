{
 "cells": [
  {
   "cell_type": "code",
   "execution_count": 4,
   "metadata": {},
   "outputs": [],
   "source": [
    "from selenium import webdriver\n",
    "import selenium\n",
    "import time\n",
    "from bs4 import BeautifulSoup\n",
    "import pandas as pd"
   ]
  },
  {
   "cell_type": "code",
   "execution_count": 5,
   "metadata": {},
   "outputs": [],
   "source": [
    "# 현재 작업 디렉터리에 있는 chromedriver 파일을 가리킵니다.\n",
    "\n",
    "driver = webdriver.Chrome()\n",
    "\n",
    "driver.maximize_window()\n",
    "\n",
    "# 접속하기\n",
    "url = 'https://www.musinsa.com/app/?utm_source=google_shopping&utm_medium=sh&utm_campaign=pmax_ongoing&source=GOSHSAP001&utm_source=google_shopping&utm_medium=sh&utm_campaign=pmax_ongoing&source=GOSHSAP001&gad_source=1&gclid=Cj0KCQjw2uiwBhCXARIsACMvIU1UMS64MMDr5AnHmY9HCoA5rr0_lsqU7qfdTBcMfRIqPs1go8c8IJIaAhmFEALw_wcB'\n",
    "\n",
    "# 지정한 웹 페이지 열기\n",
    "driver.get(url)\n",
    "time.sleep(1)\n",
    "\n",
    "soup = BeautifulSoup(driver.page_source, 'html.parser')\n",
    "time.sleep(1)"
   ]
  },
  {
   "cell_type": "code",
   "execution_count": 6,
   "metadata": {},
   "outputs": [],
   "source": [
    "# 대분류 내 확장버튼 (중분류 보기 위함)\n",
    "expanding_button = driver.find_elements('css selector', 'button.sc-8hpehb-2.jmROMB')[1]\n",
    "expanding_button.click()"
   ]
  },
  {
   "cell_type": "code",
   "execution_count": 7,
   "metadata": {},
   "outputs": [
    {
     "data": {
      "text/plain": [
       "23"
      ]
     },
     "execution_count": 7,
     "metadata": {},
     "output_type": "execute_result"
    }
   ],
   "source": [
    "main_categories = soup.select('div.sc-nw870h-1.knbIYx > section > div > nav > div[role]' )\n",
    "len(main_categories)"
   ]
  },
  {
   "cell_type": "code",
   "execution_count": 8,
   "metadata": {},
   "outputs": [
    {
     "data": {
      "text/plain": [
       "[<a class=\"sc-8hpehb-10 gUJCm\" href=\"https://www.musinsa.com/categories/item/001\">전체<span> (264,233)</span></a>,\n",
       " <a class=\"sc-8hpehb-10 gUJCm\" href=\"https://www.musinsa.com/categories/item/001006\">니트/스웨터<span> (31,834)</span></a>,\n",
       " <a class=\"sc-8hpehb-10 gUJCm\" href=\"https://www.musinsa.com/categories/item/001004\">후드 티셔츠<span> (26,824)</span></a>,\n",
       " <a class=\"sc-8hpehb-10 gUJCm\" href=\"https://www.musinsa.com/categories/item/001005\">맨투맨/스웨트셔츠<span> (39,933)</span></a>,\n",
       " <a class=\"sc-8hpehb-10 gUJCm\" href=\"https://www.musinsa.com/categories/item/001010\">긴소매 티셔츠<span> (24,340)</span></a>,\n",
       " <a class=\"sc-8hpehb-10 gUJCm\" href=\"https://www.musinsa.com/categories/item/001002\">셔츠/블라우스<span> (30,201)</span></a>,\n",
       " <a class=\"sc-8hpehb-10 gUJCm\" href=\"https://www.musinsa.com/categories/item/001003\">피케/카라 티셔츠<span> (12,615)</span></a>,\n",
       " <a class=\"sc-8hpehb-10 gUJCm\" href=\"https://www.musinsa.com/categories/item/001001\">반소매 티셔츠<span> (81,896)</span></a>,\n",
       " <a class=\"sc-8hpehb-10 gUJCm\" href=\"https://www.musinsa.com/categories/item/001011\">민소매 티셔츠<span> (8,198)</span></a>,\n",
       " <a class=\"sc-8hpehb-10 gUJCm\" href=\"https://www.musinsa.com/categories/item/001013\">스포츠 상의<span> (30,502)</span></a>,\n",
       " <a class=\"sc-8hpehb-10 gUJCm\" href=\"https://www.musinsa.com/categories/item/001008\">기타 상의<span> (7,701)</span></a>]"
      ]
     },
     "execution_count": 8,
     "metadata": {},
     "output_type": "execute_result"
    }
   ],
   "source": [
    "# 중분류 링크\n",
    "middle_categories = main_categories[1].select('li > a[href]')\n",
    "middle_categories"
   ]
  },
  {
   "cell_type": "code",
   "execution_count": 9,
   "metadata": {},
   "outputs": [],
   "source": [
    "# 중분류 내 전체랑 기타는 제외\n",
    "middle_categories = middle_categories[1:-1]"
   ]
  },
  {
   "cell_type": "code",
   "execution_count": 10,
   "metadata": {},
   "outputs": [
    {
     "data": {
      "text/plain": [
       "'https://www.musinsa.com/categories/item/001006'"
      ]
     },
     "execution_count": 10,
     "metadata": {},
     "output_type": "execute_result"
    }
   ],
   "source": [
    "middle_categories[0]['href']"
   ]
  },
  {
   "cell_type": "code",
   "execution_count": 11,
   "metadata": {},
   "outputs": [],
   "source": [
    "# 중분류 중 첫번째 카테고리 페이지로 이동\n",
    "driver.get(middle_categories[0]['href'])"
   ]
  },
  {
   "cell_type": "code",
   "execution_count": 12,
   "metadata": {},
   "outputs": [],
   "source": [
    "# 파싱\n",
    "soup = BeautifulSoup(driver.page_source, 'html.parser')"
   ]
  },
  {
   "cell_type": "code",
   "execution_count": 13,
   "metadata": {},
   "outputs": [],
   "source": [
    "# 판매순 토글 클릭\n",
    "driver.find_element('xpath', '//*[@id=\"goods_list\"]/div[2]/div[1]/a[7]/span/i').click()"
   ]
  },
  {
   "cell_type": "code",
   "execution_count": 14,
   "metadata": {},
   "outputs": [],
   "source": [
    "# 1일로 설정\n",
    "driver.find_element('xpath', '//*[@id=\"layerSorting_sale\"]/div/label[1]').click()"
   ]
  },
  {
   "cell_type": "code",
   "execution_count": 15,
   "metadata": {},
   "outputs": [],
   "source": [
    "# 아이템 개수. 상수화\n",
    "items_count = 100"
   ]
  },
  {
   "cell_type": "code",
   "execution_count": 16,
   "metadata": {},
   "outputs": [],
   "source": [
    "# 파싱\n",
    "soup = BeautifulSoup(driver.page_source, 'html.parser')"
   ]
  },
  {
   "cell_type": "code",
   "execution_count": 17,
   "metadata": {},
   "outputs": [
    {
     "data": {
      "text/plain": [
       "90"
      ]
     },
     "execution_count": 17,
     "metadata": {},
     "output_type": "execute_result"
    }
   ],
   "source": [
    "# 한 페이지에 존재하는 상품들 링크 정보 수집. 한 페이지 당 90개 존재.\n",
    "# 100개 수집하려면 다음페이지로도 가야함\n",
    "product_links = soup.select('div.list-box.box > ul > li.li_box > div.li_inner > div.article_info > p.list_info > a[href]')\n",
    "len(product_links)"
   ]
  },
  {
   "cell_type": "code",
   "execution_count": 18,
   "metadata": {},
   "outputs": [
    {
     "name": "stdout",
     "output_type": "stream",
     "text": [
      "//www.musinsa.com/app/goods/3802507\n",
      "//www.musinsa.com/app/goods/3972351\n",
      "//www.musinsa.com/app/goods/3202947\n",
      "//www.musinsa.com/app/goods/3971331\n",
      "//www.musinsa.com/app/goods/3202958\n",
      "//www.musinsa.com/app/goods/3430103\n",
      "//www.musinsa.com/app/goods/2448867\n",
      "//www.musinsa.com/app/goods/3931280\n",
      "//www.musinsa.com/app/goods/2423042\n",
      "//www.musinsa.com/app/goods/3948574\n"
     ]
    }
   ],
   "source": [
    "# 링크 형태 살짝 안맞는거 확인\n",
    "for product_link in product_links[:10]:\n",
    "    print(product_link['href'])\n",
    "    "
   ]
  },
  {
   "cell_type": "code",
   "execution_count": 19,
   "metadata": {},
   "outputs": [],
   "source": [
    "# get 파라미터처럼 형태 바꿔줘서 for문 돌려야 함\n",
    "driver.get(product_links[0]['href'].replace('//', \"https://\"))"
   ]
  },
  {
   "cell_type": "code",
   "execution_count": 20,
   "metadata": {},
   "outputs": [],
   "source": [
    "# 파싱\n",
    "soup = BeautifulSoup(driver.page_source, 'html.parser')"
   ]
  },
  {
   "cell_type": "code",
   "execution_count": 21,
   "metadata": {},
   "outputs": [
    {
     "data": {
      "text/plain": [
       "'TRILLION'"
      ]
     },
     "execution_count": 21,
     "metadata": {},
     "output_type": "execute_result"
    }
   ],
   "source": [
    "# 브랜드\n",
    "brand = soup.select('div.product-detail__sc-achptn-6.TehCn > a')[0]['title']\n",
    "brand"
   ]
  },
  {
   "cell_type": "code",
   "execution_count": 22,
   "metadata": {},
   "outputs": [
    {
     "data": {
      "text/plain": [
       "'TRSKN19BK'"
      ]
     },
     "execution_count": 22,
     "metadata": {},
     "output_type": "execute_result"
    }
   ],
   "source": [
    "# 품번\n",
    "product_num = soup.select('span.product-detail__sc-achptn-4.cobjEx')[2].text\n",
    "product_num"
   ]
  },
  {
   "cell_type": "code",
   "execution_count": 23,
   "metadata": {},
   "outputs": [
    {
     "data": {
      "text/plain": [
       "'8.8만 회 이상'"
      ]
     },
     "execution_count": 23,
     "metadata": {},
     "output_type": "execute_result"
    }
   ],
   "source": [
    "# 누적판매(1년)\n",
    "\n",
    "cumulative_sales = soup.select('span.product-detail__sc-achptn-4.cobjEx')[8].text\n",
    "cumulative_sales"
   ]
  },
  {
   "cell_type": "code",
   "execution_count": 24,
   "metadata": {},
   "outputs": [
    {
     "data": {
      "text/plain": [
       "'10,715'"
      ]
     },
     "execution_count": 24,
     "metadata": {},
     "output_type": "execute_result"
    }
   ],
   "source": [
    "# 좋아요\n",
    "heart = soup.select('span.product-detail__sc-achptn-4.coaOzR')[0].text\n",
    "heart"
   ]
  },
  {
   "cell_type": "code",
   "execution_count": 25,
   "metadata": {},
   "outputs": [
    {
     "data": {
      "text/plain": [
       "'54,000원'"
      ]
     },
     "execution_count": 25,
     "metadata": {},
     "output_type": "execute_result"
    }
   ],
   "source": [
    "# 정가 (무신사 판매가)\n",
    "regular_price = soup.select('span.product-detail__sc-1p1ulhg-7.JZAP')[0].text\n",
    "regular_price"
   ]
  },
  {
   "cell_type": "code",
   "execution_count": 26,
   "metadata": {},
   "outputs": [
    {
     "data": {
      "text/plain": [
       "'32,596 ~ 39,800원'"
      ]
     },
     "execution_count": 26,
     "metadata": {},
     "output_type": "execute_result"
    }
   ],
   "source": [
    "# 할인가인데 적절히 split 해서 써야할듯 (무신사 회원가)\n",
    "discount_sales = soup.select('span.product-detail__sc-1p1ulhg-7.kijFAA')[0].text\n",
    "discount_sales"
   ]
  },
  {
   "cell_type": "code",
   "execution_count": 27,
   "metadata": {},
   "outputs": [
    {
     "data": {
      "text/plain": [
       "'https://image.msscdn.net/images/goods_img/20240117/3802507/3802507_17068529515138_500.jpg'"
      ]
     },
     "execution_count": 27,
     "metadata": {},
     "output_type": "execute_result"
    }
   ],
   "source": [
    "# 이미지 링크\n",
    "img_link = soup.select('div.product-detail__sc-p62agb-1.brrfxn > img')[0]['src']\n",
    "img_link"
   ]
  },
  {
   "cell_type": "code",
   "execution_count": 28,
   "metadata": {},
   "outputs": [],
   "source": [
    "# 이미지 파일 저장할 디렉토리\n",
    "\n",
    "import os\n",
    "\n",
    "if \"images\" not in os.listdir():  \n",
    "    os.mkdir(\"images\")"
   ]
  },
  {
   "cell_type": "code",
   "execution_count": 29,
   "metadata": {},
   "outputs": [
    {
     "name": "stdout",
     "output_type": "stream",
     "text": [
      "saved image https://image.msscdn.net/images/goods_img/20240117/3802507/3802507_17068529515138_500.jpg > ./images/TRSKN19BK.png\n"
     ]
    }
   ],
   "source": [
    "# 이미지 저장. 나중에 for문으로 돌릴땐 이미지 이미 있으면 continue 하도록 설정\n",
    "from urllib.request import urlretrieve\n",
    "\n",
    "urlretrieve(img_link, f'./images/{product_num}.png')\n",
    "print(f'saved image {img_link} > ./images/{product_num}.png')"
   ]
  },
  {
   "cell_type": "code",
   "execution_count": 30,
   "metadata": {},
   "outputs": [
    {
     "name": "stdout",
     "output_type": "stream",
     "text": [
      "12% 35% 25% 11% 4% 13% "
     ]
    }
   ],
   "source": [
    "# 나이\n",
    "\n",
    "ages = soup.select('span.product-detail__sc-riuadz-12.cFgaXH')\n",
    "\n",
    "''' \n",
    "0 : ~18세\n",
    "1 : 19~23세\n",
    "2 : 24~28세\n",
    "3 : 29~33세\n",
    "4 : 34~39세\n",
    "5 : 40세~\n",
    "'''\n",
    "\n",
    "for age in ages:\n",
    "    print(age.text, end=' ')"
   ]
  },
  {
   "cell_type": "code",
   "execution_count": 31,
   "metadata": {},
   "outputs": [
    {
     "data": {
      "text/plain": [
       "'61%'"
      ]
     },
     "execution_count": 31,
     "metadata": {},
     "output_type": "execute_result"
    }
   ],
   "source": [
    "# 남성 구매 비율\n",
    "man = soup.select('span.product-detail__sc-18glxph-9.YnCTG')[0].text\n",
    "man"
   ]
  },
  {
   "cell_type": "code",
   "execution_count": 32,
   "metadata": {},
   "outputs": [
    {
     "data": {
      "text/plain": [
       "'39%'"
      ]
     },
     "execution_count": 32,
     "metadata": {},
     "output_type": "execute_result"
    }
   ],
   "source": [
    "# 여성 구매 비율\n",
    "woman = soup.select('span.product-detail__sc-18glxph-9.YnCTG')[1].text\n",
    "woman"
   ]
  },
  {
   "cell_type": "code",
   "execution_count": 33,
   "metadata": {},
   "outputs": [],
   "source": [
    "# # 상품 후기 클릭\n",
    "# driver.find_element('xpath', '//*[@id=\"estimateBox\"]/div[2]/ul/li[2]').click()\n",
    "\n",
    "# # 일반 후기 클릭\n",
    "# driver.find_element('xpath', '//*[@id=\"estimateBox\"]/div[2]/ul/li[3]').click()"
   ]
  },
  {
   "cell_type": "code",
   "execution_count": 34,
   "metadata": {},
   "outputs": [],
   "source": [
    "driver.find_elements('css selector',  'a.paging-btn.btn')[4].click()"
   ]
  },
  {
   "cell_type": "code",
   "execution_count": 35,
   "metadata": {},
   "outputs": [],
   "source": [
    "reviews = soup.select('div.review-list-wrap > div.review-list')"
   ]
  },
  {
   "cell_type": "code",
   "execution_count": 36,
   "metadata": {},
   "outputs": [
    {
     "data": {
      "text/plain": [
       "'LV.3 유리628'"
      ]
     },
     "execution_count": 36,
     "metadata": {},
     "output_type": "execute_result"
    }
   ],
   "source": [
    "# 한 페이지에 있는 리뷰어의 이름. for문에서 인덱싱만 해주면 됨\n",
    "soup.select('div.review-profile > div.review-profile__text-wrap > div > p.review-profile__name')[0].text"
   ]
  },
  {
   "cell_type": "code",
   "execution_count": 37,
   "metadata": {},
   "outputs": [
    {
     "data": {
      "text/plain": [
       "'width: 100%'"
      ]
     },
     "execution_count": 37,
     "metadata": {},
     "output_type": "execute_result"
    }
   ],
   "source": [
    "# 한 페이지에 있는 리뷰어의 별 개수. %에 따라 별 개수 산정\n",
    "soup.select('span.review-list__rating__active')[0]['style']"
   ]
  },
  {
   "cell_type": "code",
   "execution_count": 38,
   "metadata": {},
   "outputs": [
    {
     "data": {
      "text/plain": [
       "'6'"
      ]
     },
     "execution_count": 38,
     "metadata": {},
     "output_type": "execute_result"
    }
   ],
   "source": [
    "# 도움돼요 수\n",
    "soup.select('label.review-evaluation-button--type3__item.review-evaluation-button--type3__item--button01 > span.review-evaluation-button--type3__count')[0].text"
   ]
  },
  {
   "cell_type": "code",
   "execution_count": 39,
   "metadata": {},
   "outputs": [
    {
     "data": {
      "text/plain": [
       "'19'"
      ]
     },
     "execution_count": 39,
     "metadata": {},
     "output_type": "execute_result"
    }
   ],
   "source": [
    "# 스타일좋아요 수\n",
    "soup.select('label.review-evaluation-button--type3__item.review-evaluation-button--type3__item--button02 > span.review-evaluation-button--type3__count')[0].text"
   ]
  },
  {
   "cell_type": "code",
   "execution_count": 40,
   "metadata": {},
   "outputs": [
    {
     "data": {
      "text/plain": [
       "[<selenium.webdriver.remote.webelement.WebElement (session=\"8f3c5f3a079ef9f0418c8c85227a257a\", element=\"f.115317005DC913EC729D06A69902A243.d.8DB2816E1E9005F4590F39808D5C00B9.e.394\")>,\n",
       " <selenium.webdriver.remote.webelement.WebElement (session=\"8f3c5f3a079ef9f0418c8c85227a257a\", element=\"f.115317005DC913EC729D06A69902A243.d.8DB2816E1E9005F4590F39808D5C00B9.e.395\")>,\n",
       " <selenium.webdriver.remote.webelement.WebElement (session=\"8f3c5f3a079ef9f0418c8c85227a257a\", element=\"f.115317005DC913EC729D06A69902A243.d.8DB2816E1E9005F4590F39808D5C00B9.e.396\")>,\n",
       " <selenium.webdriver.remote.webelement.WebElement (session=\"8f3c5f3a079ef9f0418c8c85227a257a\", element=\"f.115317005DC913EC729D06A69902A243.d.8DB2816E1E9005F4590F39808D5C00B9.e.397\")>,\n",
       " <selenium.webdriver.remote.webelement.WebElement (session=\"8f3c5f3a079ef9f0418c8c85227a257a\", element=\"f.115317005DC913EC729D06A69902A243.d.8DB2816E1E9005F4590F39808D5C00B9.e.398\")>,\n",
       " <selenium.webdriver.remote.webelement.WebElement (session=\"8f3c5f3a079ef9f0418c8c85227a257a\", element=\"f.115317005DC913EC729D06A69902A243.d.8DB2816E1E9005F4590F39808D5C00B9.e.399\")>,\n",
       " <selenium.webdriver.remote.webelement.WebElement (session=\"8f3c5f3a079ef9f0418c8c85227a257a\", element=\"f.115317005DC913EC729D06A69902A243.d.8DB2816E1E9005F4590F39808D5C00B9.e.400\")>,\n",
       " <selenium.webdriver.remote.webelement.WebElement (session=\"8f3c5f3a079ef9f0418c8c85227a257a\", element=\"f.115317005DC913EC729D06A69902A243.d.8DB2816E1E9005F4590F39808D5C00B9.e.401\")>,\n",
       " <selenium.webdriver.remote.webelement.WebElement (session=\"8f3c5f3a079ef9f0418c8c85227a257a\", element=\"f.115317005DC913EC729D06A69902A243.d.8DB2816E1E9005F4590F39808D5C00B9.e.402\")>]"
      ]
     },
     "execution_count": 40,
     "metadata": {},
     "output_type": "execute_result"
    }
   ],
   "source": [
    "''' 후기 페이지 넘기기\n",
    "3: 2페이지\n",
    "4: 3페이지\n",
    "5: 4페이지asdasd\n",
    "6: 5페이지\n",
    "7: 아예 다음페이지(6)\n",
    "'''\n",
    "driver.find_elements('css selector', 'a.paging-btn.btn')"
   ]
  },
  {
   "cell_type": "code",
   "execution_count": null,
   "metadata": {},
   "outputs": [],
   "source": []
  },
  {
   "cell_type": "code",
   "execution_count": null,
   "metadata": {},
   "outputs": [],
   "source": []
  }
 ],
 "metadata": {
  "kernelspec": {
   "display_name": "torch",
   "language": "python",
   "name": "python3"
  },
  "language_info": {
   "codemirror_mode": {
    "name": "ipython",
    "version": 3
   },
   "file_extension": ".py",
   "mimetype": "text/x-python",
   "name": "python",
   "nbconvert_exporter": "python",
   "pygments_lexer": "ipython3",
   "version": "3.7.16"
  }
 },
 "nbformat": 4,
 "nbformat_minor": 2
}
